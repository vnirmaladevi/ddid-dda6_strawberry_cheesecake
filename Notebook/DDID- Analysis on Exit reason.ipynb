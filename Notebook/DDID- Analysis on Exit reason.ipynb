{
 "cells": [
  {
   "cell_type": "code",
   "execution_count": null,
   "id": "a59fb936",
   "metadata": {},
   "outputs": [],
   "source": [
    "import pandas as pd\n",
    "import regex as re\n",
    "from datetime import datetime, timedelta\n",
    "import numpy as np\n",
    "from dateutil import relativedelta as rdelta"
   ]
  },
  {
   "cell_type": "code",
   "execution_count": null,
   "id": "94d4a8a8",
   "metadata": {},
   "outputs": [],
   "source": [
    "Data_File = pd.read_excel('../data/TEIS Exit Data for NSS.xlsx', sheet_name = 'Exit Notes')"
   ]
  },
  {
   "cell_type": "code",
   "execution_count": null,
   "id": "687ef366",
   "metadata": {},
   "outputs": [],
   "source": [
    "Data_File.head()"
   ]
  },
  {
   "cell_type": "code",
   "execution_count": null,
   "id": "5d3295f0",
   "metadata": {},
   "outputs": [],
   "source": [
    "Exit_Notes=Data_File.copy()"
   ]
  },
  {
   "cell_type": "code",
   "execution_count": null,
   "id": "b6a543dc",
   "metadata": {},
   "outputs": [],
   "source": [
    "Exit_Notes=Exit_Notes.drop(columns=['POE','Notification Date','Initial Eligibility Date','Days from I-IFSP to Exit'])"
   ]
  },
  {
   "cell_type": "code",
   "execution_count": null,
   "id": "6ff0d330",
   "metadata": {},
   "outputs": [],
   "source": [
    "Exit_Notes.head()"
   ]
  },
  {
   "cell_type": "code",
   "execution_count": null,
   "id": "0c586fb4",
   "metadata": {},
   "outputs": [],
   "source": [
    "Exit_Notes=Exit_Notes.drop(columns='Latest IFSP Date')"
   ]
  },
  {
   "cell_type": "code",
   "execution_count": null,
   "id": "52a32561",
   "metadata": {},
   "outputs": [],
   "source": [
    "Exit_Notes.head()"
   ]
  },
  {
   "cell_type": "code",
   "execution_count": null,
   "id": "343abbfc",
   "metadata": {},
   "outputs": [],
   "source": [
    " from IPython.core.display import display, HTML\n",
    "display(HTML(\"<style>.container { width:100% !important; }</style>\"))\n",
    "display(HTML(\"<style>.output_result { max-width:100% !important; }</style>\"))"
   ]
  },
  {
   "cell_type": "code",
   "execution_count": null,
   "id": "be1e4c27",
   "metadata": {},
   "outputs": [],
   "source": [
    "pd.to_datetime(Exit_Notes['Exit Date'], format='%Y/%m/%d')\n",
    "pd.to_datetime(Exit_Notes['DOB'], format='%Y/%m/%d')\n",
    "pd.to_datetime(Exit_Notes['Initial IFSP Date'], format='%Y/%m/%d')\n",
    "Exit_Notes['Age_at_Exit']=(Exit_Notes['Exit Date']-Exit_Notes['DOB'])"
   ]
  },
  {
   "cell_type": "code",
   "execution_count": null,
   "id": "bd8dce88",
   "metadata": {},
   "outputs": [],
   "source": [
    "Exit_Notes.head()"
   ]
  },
  {
   "cell_type": "code",
   "execution_count": null,
   "id": "c480613c",
   "metadata": {},
   "outputs": [],
   "source": [
    "Exit_Notes['Age_at_Exit']/np.timedelta64(1,'Y')\n"
   ]
  },
  {
   "cell_type": "code",
   "execution_count": null,
   "id": "15c6ecec",
   "metadata": {},
   "outputs": [],
   "source": [
    "Exit_Notes['Age_at_Exit']=Exit_Notes['Age_at_Exit'].astype('timedelta64[Y]')"
   ]
  },
  {
   "cell_type": "code",
   "execution_count": null,
   "id": "c7a64f87",
   "metadata": {},
   "outputs": [],
   "source": [
    "Exit_Notes['Age_at_Exit']=Exit_Notes['Age_at_Exit'].astype(int)"
   ]
  },
  {
   "cell_type": "code",
   "execution_count": null,
   "id": "70800aa3",
   "metadata": {},
   "outputs": [],
   "source": [
    "Exit_Notes_Agegroup=Exit_Notes.groupby(['Age_at_Exit'])['Child ID'].count()"
   ]
  },
  {
   "cell_type": "code",
   "execution_count": null,
   "id": "6d6c67d3",
   "metadata": {},
   "outputs": [],
   "source": [
    "Exit_Notes_3yr=Exit_Notes.loc[Exit_Notes.Age_at_Exit == 3]"
   ]
  },
  {
   "cell_type": "code",
   "execution_count": null,
   "id": "d5e37eec",
   "metadata": {},
   "outputs": [],
   "source": [
    "Exit_Notes_2yr=Exit_Notes.loc[Exit_Notes.Age_at_Exit == 2  ]"
   ]
  },
  {
   "cell_type": "code",
   "execution_count": null,
   "id": "a6ebb0e1",
   "metadata": {},
   "outputs": [],
   "source": [
    "Exit_Notes_2yr.head()"
   ]
  },
  {
   "cell_type": "code",
   "execution_count": null,
   "id": "9c8a0090",
   "metadata": {},
   "outputs": [],
   "source": [
    "Exit_Notes_2yr_reason=Exit_Notes_2yr.groupby(['Exit Reason'])['Child ID'].count().sort_values(ascending=False)"
   ]
  },
  {
   "cell_type": "code",
   "execution_count": null,
   "id": "09de1614",
   "metadata": {},
   "outputs": [],
   "source": [
    "Exit_Notes_reason=Exit_Notes.groupby(['Exit Reason'])['Child ID'].count().sort_values(ascending=False)"
   ]
  },
  {
   "cell_type": "code",
   "execution_count": null,
   "id": "474b26cc",
   "metadata": {},
   "outputs": [],
   "source": [
    "\n",
    "Exit_Notes['child_3rd_birthday']=Exit_Notes['DOB'] + pd.offsets.DateOffset(years=3)"
   ]
  },
  {
   "cell_type": "code",
   "execution_count": null,
   "id": "cb9d2a24",
   "metadata": {},
   "outputs": [],
   "source": [
    "Exit_dueto_age=Exit_Notes.loc[(Exit_Notes['Exit Date'] == Exit_Notes['child_3rd_birthday']) | (Exit_Notes['Exit Date'] == Exit_Notes['child_3rd_birthday']-timedelta(days=1))]\n",
    "    "
   ]
  },
  {
   "cell_type": "code",
   "execution_count": null,
   "id": "207c458c",
   "metadata": {},
   "outputs": [],
   "source": [
    "Exit_dueto_age.shape"
   ]
  },
  {
   "cell_type": "code",
   "execution_count": null,
   "id": "5efda040",
   "metadata": {},
   "outputs": [],
   "source": [
    "Exit_dueto_age.groupby(['Exit Reason'])['Child ID'].count().sort_values(ascending=False)"
   ]
  },
  {
   "cell_type": "code",
   "execution_count": null,
   "id": "13bb3819",
   "metadata": {},
   "outputs": [],
   "source": [
    "ECO_with_Exit20_21_Actual=pd.read_csv('../data/ECO_with_Exit20_21_Actual_Analysis.csv')"
   ]
  },
  {
   "cell_type": "code",
   "execution_count": null,
   "id": "3cdab2ba",
   "metadata": {},
   "outputs": [],
   "source": [
    "ECO_with_Exit20_21_Actual.head()"
   ]
  },
  {
   "cell_type": "code",
   "execution_count": null,
   "id": "598e06cb",
   "metadata": {},
   "outputs": [],
   "source": [
    "pd.to_datetime(ECO_with_Exit20_21_Actual['Exit Date'], format='%Y/%m/%d')\n",
    "\n",
    "pd.to_datetime(ECO_with_Exit20_21_Actual['Initial IFSP Date'], format='%Y/%m/%d')\n"
   ]
  },
  {
   "cell_type": "code",
   "execution_count": null,
   "id": "d8b71ccc",
   "metadata": {},
   "outputs": [],
   "source": [
    "ECO_with_Exit20_21_Actual['DOB'] "
   ]
  },
  {
   "cell_type": "code",
   "execution_count": null,
   "id": "85635d70",
   "metadata": {},
   "outputs": [],
   "source": [
    "ECO_with_Exit20_21_Actual['DOB']=pd.to_datetime(ECO_with_Exit20_21_Actual['DOB'], format='%Y/%m/%d')"
   ]
  },
  {
   "cell_type": "code",
   "execution_count": null,
   "id": "948f5084",
   "metadata": {},
   "outputs": [],
   "source": [
    "ECO_with_Exit20_21_Actual['child_3rd_birthday']=ECO_with_Exit20_21_Actual['DOB'] + pd.offsets.DateOffset(years=3)"
   ]
  },
  {
   "cell_type": "code",
   "execution_count": null,
   "id": "8552947e",
   "metadata": {},
   "outputs": [],
   "source": [
    "ECO_EXIT_age3=ECO_with_Exit20_21_Actual.loc[(ECO_with_Exit20_21_Actual['Exit Date'] == ECO_with_Exit20_21_Actual['child_3rd_birthday']) | (ECO_with_Exit20_21_Actual['Exit Date'] == ECO_with_Exit20_21_Actual['child_3rd_birthday']-timedelta(days=1))]"
   ]
  },
  {
   "cell_type": "code",
   "execution_count": null,
   "id": "e7bd5b9c",
   "metadata": {},
   "outputs": [],
   "source": [
    "ECO_EXIT_age3.shape"
   ]
  },
  {
   "cell_type": "code",
   "execution_count": null,
   "id": "8e8cf77d",
   "metadata": {},
   "outputs": [],
   "source": [
    "ECO_age3_less182=ECO_EXIT_age3.loc[ECO_EXIT_age3['Actual_Service_Days'] < 182]"
   ]
  },
  {
   "cell_type": "markdown",
   "id": "18d1e123",
   "metadata": {},
   "source": [
    "ECO_age3_less182.to_csv('../data/ECO_age3_less182_analysis.csv')"
   ]
  },
  {
   "cell_type": "code",
   "execution_count": null,
   "id": "f3cab43a",
   "metadata": {},
   "outputs": [],
   "source": [
    "Exit_Reopen=Exit_Notes[Exit_Notes['Exit Note'].str.contains('Exit Date:|Reopened:|Exit Reason:')==True]"
   ]
  },
  {
   "cell_type": "code",
   "execution_count": null,
   "id": "1fe0c5e9",
   "metadata": {},
   "outputs": [],
   "source": [
    "Exit_rsn=Exit_Reopen['Exit Note'].str.extractall(pat='Reopened:.*(Exit Reason:.*)')"
   ]
  },
  {
   "cell_type": "code",
   "execution_count": null,
   "id": "d3602bde",
   "metadata": {},
   "outputs": [],
   "source": [
    "pd.options.display.max_rows\n",
    "pd.set_option('display.max_colwidth', None)\n",
    "pd.reset_option('max_columns')"
   ]
  },
  {
   "cell_type": "code",
   "execution_count": null,
   "id": "6c01a230",
   "metadata": {},
   "outputs": [],
   "source": [
    "Exit_rsn_unstack=Exit_rsn.unstack()"
   ]
  },
  {
   "cell_type": "code",
   "execution_count": null,
   "id": "ed7a7e87",
   "metadata": {},
   "outputs": [],
   "source": [
    "Exit_rsn_unstack.shape"
   ]
  },
  {
   "cell_type": "code",
   "execution_count": null,
   "id": "1389ea24",
   "metadata": {},
   "outputs": [],
   "source": [
    "Exit_rsn_unstack.columns=['Exrsn1']"
   ]
  },
  {
   "cell_type": "code",
   "execution_count": null,
   "id": "bbe90b24",
   "metadata": {},
   "outputs": [],
   "source": [
    "Exit_rsn_unstack.to_csv('../data/Exit_rsn_unstack.csv')"
   ]
  },
  {
   "cell_type": "code",
   "execution_count": null,
   "id": "2210e4df",
   "metadata": {},
   "outputs": [],
   "source": [
    "Exit_rsn_unstack.groupby('Exrsn1').count()"
   ]
  },
  {
   "cell_type": "code",
   "execution_count": null,
   "id": "36d2f70b",
   "metadata": {},
   "outputs": [],
   "source": [
    "Exit_rsn_unstack.reset_index().groupby('Exrsn1').agg(lambda x: x.nunique())"
   ]
  },
  {
   "cell_type": "code",
   "execution_count": null,
   "id": "9be19023",
   "metadata": {},
   "outputs": [],
   "source": [
    "Exit_rsn_unstack[Exit_rsn_unstack.Exrsn1.str.contains('Attempts to contact unsuccessful')==True]"
   ]
  },
  {
   "cell_type": "code",
   "execution_count": null,
   "id": "07da766e",
   "metadata": {},
   "outputs": [],
   "source": [
    "Exit_rsn_unstack[Exit_rsn_unstack.Exrsn1.str.contains('Unable to contact')==True]"
   ]
  },
  {
   "cell_type": "code",
   "execution_count": null,
   "id": "9d628499",
   "metadata": {},
   "outputs": [],
   "source": [
    "Exit_rsn_unstack[Exit_rsn_unstack.Exrsn1.str.contains('Parent withdraw')==True]"
   ]
  },
  {
   "cell_type": "code",
   "execution_count": null,
   "id": "61e57665",
   "metadata": {},
   "outputs": [],
   "source": [
    "Exit_rsn_unstack[Exit_rsn_unstack.Exrsn1.str.contains('Completion of IFSP')==True]"
   ]
  },
  {
   "cell_type": "code",
   "execution_count": null,
   "id": "d24b8661",
   "metadata": {},
   "outputs": [],
   "source": [
    "Exit_rsn_unstack[Exit_rsn_unstack.Exrsn1.str.contains('Moved out of state')==True].shape"
   ]
  },
  {
   "cell_type": "code",
   "execution_count": null,
   "id": "032a501e",
   "metadata": {},
   "outputs": [],
   "source": [
    "Exit_rsn_unstack[Exit_rsn_unstack.Exrsn1.str.contains('COVID')==True]"
   ]
  },
  {
   "cell_type": "code",
   "execution_count": null,
   "id": "14d185db",
   "metadata": {},
   "outputs": [],
   "source": [
    "Exit_rsn_unstack[Exit_rsn_unstack.Exrsn1.str.contains('Parent decline')==True] "
   ]
  },
  {
   "cell_type": "code",
   "execution_count": null,
   "id": "037c6d1f",
   "metadata": {},
   "outputs": [],
   "source": [
    "Exit_rsn_unstack[Exit_rsn_unstack.Exrsn1.str.contains('Ineligible for Part C')==True]"
   ]
  },
  {
   "cell_type": "code",
   "execution_count": null,
   "id": "104f5a10",
   "metadata": {},
   "outputs": [],
   "source": [
    "ECO_EXIT_age3.loc[ECO_EXIT_age3['Actual_Service_Days'] < 182]"
   ]
  },
  {
   "cell_type": "code",
   "execution_count": null,
   "id": "f6d7c5d1",
   "metadata": {},
   "outputs": [],
   "source": [
    "Exit_dueto_age = Exit_dueto_age.rename(columns={'Exit Note': 'Exit_Note'})\n"
   ]
  },
  {
   "cell_type": "markdown",
   "id": "81f5ea3b",
   "metadata": {},
   "source": [
    "Exit_dueto_age.to_csv('../data/Exit_dueto_age_analysis.csv')"
   ]
  },
  {
   "cell_type": "code",
   "execution_count": null,
   "id": "2d3616fd",
   "metadata": {},
   "outputs": [],
   "source": [
    "Exit_dueto_age[Exit_dueto_age.Exit_Note.str.contains('Part B eligible')==True].shape"
   ]
  },
  {
   "cell_type": "code",
   "execution_count": null,
   "id": "0cbc4161",
   "metadata": {},
   "outputs": [],
   "source": [
    "Exit_dueto_age[Exit_dueto_age.Exit_Note.str.contains('ineligible for Part B, exit with referral to other programs')==True].shape\n"
   ]
  },
  {
   "cell_type": "code",
   "execution_count": null,
   "id": "12c34caf",
   "metadata": {},
   "outputs": [],
   "source": [
    "Exit_dueto_age[Exit_dueto_age.Exit_Note.str.contains('Part B(?!.*not de.*)',na=False,case=False)]"
   ]
  },
  {
   "cell_type": "code",
   "execution_count": null,
   "id": "cc0aa772",
   "metadata": {},
   "outputs": [],
   "source": [
    "Exit_dueto_age[Exit_dueto_age.Exit_Note.str.contains('Part B',na=False,case=False) & Exit_dueto_age.Exit_Note.str.contains('not dete',na=False,case=False)]"
   ]
  },
  {
   "cell_type": "code",
   "execution_count": null,
   "id": "d067932d",
   "metadata": {},
   "outputs": [],
   "source": [
    "Exit_dueto_age[Exit_dueto_age.Exit_Note.str.contains('COVID',na=False,case=False)]"
   ]
  },
  {
   "cell_type": "code",
   "execution_count": null,
   "id": "aa62441d",
   "metadata": {
    "scrolled": true
   },
   "outputs": [],
   "source": [
    "Exit_dueto_age[Exit_dueto_age.Exit_Note.str.contains('Not eligible for Part B - Exit with no referrals',na=False,case=False)] "
   ]
  },
  {
   "cell_type": "markdown",
   "id": "0c1196be",
   "metadata": {},
   "source": [
    "ECO_age3_less182.to_csv('../data/ECO_age3_less182.csv')"
   ]
  },
  {
   "cell_type": "code",
   "execution_count": null,
   "id": "cdeedfb1",
   "metadata": {},
   "outputs": [],
   "source": [
    "Exit_ECO_age3_less182=ECO_age3_less182.merge(Exit_dueto_age[['Child ID','Exit_Note']],how='inner',left_on='CHILD_ID',right_on='Child ID')"
   ]
  },
  {
   "cell_type": "code",
   "execution_count": null,
   "id": "d00116a1",
   "metadata": {},
   "outputs": [],
   "source": [
    "Exit_ECO_age3_less182['Exit_Note']"
   ]
  },
  {
   "cell_type": "code",
   "execution_count": null,
   "id": "adce8b25",
   "metadata": {},
   "outputs": [],
   "source": [
    "ECO_EXIT_age3.loc[ECO_EXIT_age3['Actual_Service_Days'] < 182 ].shape"
   ]
  },
  {
   "cell_type": "code",
   "execution_count": null,
   "id": "9cd6736f",
   "metadata": {},
   "outputs": [],
   "source": [
    "ECO_with_Exit20_21_Actual.loc[(ECO_with_Exit20_21_Actual['Actual_Service_Days']< 182) & ((ECO_with_Exit20_21_Actual['Exit Date'] == ECO_with_Exit20_21_Actual['child_3rd_birthday']) | (ECO_with_Exit20_21_Actual['Exit Date'] == ECO_with_Exit20_21_Actual['child_3rd_birthday']-timedelta(days=1)))]"
   ]
  },
  {
   "cell_type": "code",
   "execution_count": null,
   "id": "71fbb08c",
   "metadata": {},
   "outputs": [],
   "source": []
  }
 ],
 "metadata": {
  "kernelspec": {
   "display_name": "Python 3 (ipykernel)",
   "language": "python",
   "name": "python3"
  },
  "language_info": {
   "codemirror_mode": {
    "name": "ipython",
    "version": 3
   },
   "file_extension": ".py",
   "mimetype": "text/x-python",
   "name": "python",
   "nbconvert_exporter": "python",
   "pygments_lexer": "ipython3",
   "version": "3.9.7"
  }
 },
 "nbformat": 4,
 "nbformat_minor": 5
}
