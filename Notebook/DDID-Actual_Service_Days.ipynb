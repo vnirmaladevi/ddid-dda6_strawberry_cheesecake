{
 "cells": [
  {
   "cell_type": "code",
   "execution_count": null,
   "id": "4173bb56",
   "metadata": {},
   "outputs": [],
   "source": [
    "import pandas as pd\n",
    "import regex as re\n",
    "from datetime import datetime\n",
    "import numpy as np"
   ]
  },
  {
   "cell_type": "markdown",
   "id": "0a601cb4",
   "metadata": {},
   "source": [
    "## Method1\n",
    "Converted Excel data file into CSV and then importing into Python "
   ]
  },
  {
   "cell_type": "code",
   "execution_count": null,
   "id": "2cdc29a6",
   "metadata": {},
   "outputs": [],
   "source": [
    "Exit_Notes=pd.read_csv('../data/Exit_Notes.csv',encoding='cp1252')"
   ]
  },
  {
   "cell_type": "code",
   "execution_count": null,
   "id": "3939b020",
   "metadata": {},
   "outputs": [],
   "source": [
    "Exit_Notes.head()\n"
   ]
  },
  {
   "cell_type": "code",
   "execution_count": null,
   "id": "03cb8420",
   "metadata": {
    "scrolled": true
   },
   "outputs": [],
   "source": [
    "Exit_Notes[['POE','Child ID','DOB','Initial IFSP Date','Exit Reason','Exit Date',\n",
    "            'Days from I-IFSP to Exit','Exit Note']]"
   ]
  },
  {
   "cell_type": "markdown",
   "id": "95f27d93",
   "metadata": {},
   "source": [
    "## Method 2\n",
    "Reading the Excel file directly into Python"
   ]
  },
  {
   "cell_type": "code",
   "execution_count": null,
   "id": "63b4ff11",
   "metadata": {},
   "outputs": [],
   "source": [
    "Data_File = pd.read_excel('../data/TEIS Exit Data for NSS.xlsx', sheet_name = None) #imports all data"
   ]
  },
  {
   "cell_type": "code",
   "execution_count": null,
   "id": "71f5809c",
   "metadata": {},
   "outputs": [],
   "source": [
    " Data_File.keys()"
   ]
  },
  {
   "cell_type": "code",
   "execution_count": null,
   "id": "12181d4c",
   "metadata": {
    "scrolled": true
   },
   "outputs": [],
   "source": [
    "Data_File.values()"
   ]
  },
  {
   "cell_type": "markdown",
   "id": "0d9e0dba",
   "metadata": {},
   "source": [
    "## Reading a Sheet from Excel "
   ]
  },
  {
   "cell_type": "code",
   "execution_count": null,
   "id": "8487b979",
   "metadata": {},
   "outputs": [],
   "source": [
    "Exit_Notes=Data_File['Exit Notes']\n",
    "Exit_Notes_Original=Data_File['Exit Notes']  # Copy of original Data Sheet "
   ]
  },
  {
   "cell_type": "code",
   "execution_count": null,
   "id": "c99095a5",
   "metadata": {},
   "outputs": [],
   "source": [
    "ECO_with_Exit20_21=Data_File['ECO with Exit20-21']\n",
    "ECO_with_Exit20_21_Original=Data_File['ECO with Exit20-21'] # Copy of original Data Sheet"
   ]
  },
  {
   "cell_type": "code",
   "execution_count": null,
   "id": "0e24b7cc",
   "metadata": {},
   "outputs": [],
   "source": [
    "Exit_Notes"
   ]
  },
  {
   "cell_type": "code",
   "execution_count": null,
   "id": "25cad315",
   "metadata": {},
   "outputs": [],
   "source": [
    "Exit_Notes=Exit_Notes[['POE','Child ID','DOB','Initial IFSP Date','Exit Reason','Exit Date',\n",
    "            'Days from I-IFSP to Exit','Exit Note']]"
   ]
  },
  {
   "cell_type": "markdown",
   "id": "d217746b",
   "metadata": {},
   "source": [
    "## Renaming Columns"
   ]
  },
  {
   "cell_type": "code",
   "execution_count": null,
   "id": "59e11a2e",
   "metadata": {},
   "outputs": [],
   "source": [
    "Exit_Notes=Exit_Notes.rename(columns={'Initial IFSP Date':'Init_IFSP_Dt','Child ID':'ID','Exit Reason':'Exit_Rsn',\n",
    "                          'Exit Date':'Exit_Dt','Days from I-IFSP to Exit':'Service_Days'})"
   ]
  },
  {
   "cell_type": "code",
   "execution_count": null,
   "id": "cef9083c",
   "metadata": {
    "scrolled": true
   },
   "outputs": [],
   "source": [
    "Exit_Notes.loc[Exit_Notes['Exit Note'].isna()]"
   ]
  },
  {
   "cell_type": "markdown",
   "id": "c7edddcc",
   "metadata": {},
   "source": [
    "## Create a new column Actual Service Days"
   ]
  },
  {
   "cell_type": "code",
   "execution_count": null,
   "id": "e9265f86",
   "metadata": {},
   "outputs": [],
   "source": [
    " Exit_Notes.insert(7,\"Actual_Service_Days\",0, False)"
   ]
  },
  {
   "cell_type": "code",
   "execution_count": null,
   "id": "c6fc4486",
   "metadata": {
    "scrolled": true
   },
   "outputs": [],
   "source": [
    "Exit_Notes.head()"
   ]
  },
  {
   "cell_type": "markdown",
   "id": "edff2d97",
   "metadata": {},
   "source": [
    "## Taking a copy of original Df"
   ]
  },
  {
   "cell_type": "code",
   "execution_count": null,
   "id": "782fb4e0",
   "metadata": {},
   "outputs": [],
   "source": [
    "Exit_Notes_Copy = Exit_Notes.copy()"
   ]
  },
  {
   "cell_type": "code",
   "execution_count": null,
   "id": "d04a05b1",
   "metadata": {
    "scrolled": true
   },
   "outputs": [],
   "source": [
    "Exit_Notes_Copy.head()"
   ]
  },
  {
   "cell_type": "markdown",
   "id": "65afaa1f",
   "metadata": {},
   "source": [
    "## Handling blank Exit Notes"
   ]
  },
  {
   "cell_type": "code",
   "execution_count": null,
   "id": "43b1ae83",
   "metadata": {},
   "outputs": [],
   "source": [
    "for index,row  in Exit_Notes.iterrows():\n",
    "   if pd.isna(row['Exit Note']) :\n",
    "        #Exit_Notes.Actual_Service_Days=Exit_Notes.Service_Days\n",
    "        Exit_Notes.loc[index,'Actual_Service_Days']= Exit_Notes.loc[index,'Service_Days']\n",
    "               #print(row['Exit Note'],row['Service_Days'],row['Actual_Service_Days'])\n",
    "    \n"
   ]
  },
  {
   "cell_type": "code",
   "execution_count": null,
   "id": "bf5f85d8",
   "metadata": {
    "scrolled": false
   },
   "outputs": [],
   "source": [
    "Exit_Notes_Copy.groupby('Actual_Service_Days')['ID'].count()"
   ]
  },
  {
   "cell_type": "code",
   "execution_count": null,
   "id": "05b507b0",
   "metadata": {
    "scrolled": true
   },
   "outputs": [],
   "source": [
    "(Exit_Notes['Actual_Service_Days'] != 0).sum()"
   ]
  },
  {
   "cell_type": "code",
   "execution_count": null,
   "id": "bc191924",
   "metadata": {},
   "outputs": [],
   "source": [
    "Exit_Notes=Exit_Notes.rename(columns={'Exit Note':'Exit_Note'})\n",
    "Exit_Notes_Copy=Exit_Notes_Copy.rename(columns={'Exit Note':'Exit_Note'})"
   ]
  },
  {
   "cell_type": "code",
   "execution_count": null,
   "id": "22192060",
   "metadata": {},
   "outputs": [],
   "source": [
    "Exit_Notes1=Exit_Notes.loc[Exit_Notes['Actual_Service_Days'] == 0]\n",
    "Exit_Notes1.head()"
   ]
  },
  {
   "cell_type": "markdown",
   "id": "da7b1f9c",
   "metadata": {},
   "source": [
    "## Formatting Jupyter Notebook Cell"
   ]
  },
  {
   "cell_type": "code",
   "execution_count": null,
   "id": "91fcd696",
   "metadata": {},
   "outputs": [],
   "source": [
    "from IPython.core.display import display, HTML\n",
    "display(HTML(\"<style>.container { width:100% !important; }</style>\"))"
   ]
  },
  {
   "cell_type": "code",
   "execution_count": null,
   "id": "4b6930de",
   "metadata": {},
   "outputs": [],
   "source": [
    " display(HTML(\"<style>.output_result { max-width:100% !important; }</style>\"))"
   ]
  },
  {
   "cell_type": "code",
   "execution_count": null,
   "id": "1a58f622",
   "metadata": {},
   "outputs": [],
   "source": [
    "pd.options.display.max_rows\n",
    "pd.set_option('display.max_colwidth', None)\n",
    "pd.reset_option('max_columns')"
   ]
  },
  {
   "cell_type": "markdown",
   "id": "51a33c1f",
   "metadata": {},
   "source": [
    "### Calculating Actual Days of Service"
   ]
  },
  {
   "cell_type": "code",
   "execution_count": null,
   "id": "a455d5e9",
   "metadata": {},
   "outputs": [],
   "source": [
    "Exit_Reopen=Exit_Notes1[Exit_Notes1['Exit_Note'].str.contains('Exit Date:|Reopened:|Exit Reason:')==True]"
   ]
  },
  {
   "cell_type": "code",
   "execution_count": null,
   "id": "aef70252",
   "metadata": {},
   "outputs": [],
   "source": [
    "Exit_Reopen.head()"
   ]
  },
  {
   "cell_type": "code",
   "execution_count": null,
   "id": "086ca256",
   "metadata": {},
   "outputs": [],
   "source": [
    "Exit=Exit_Reopen['Exit_Note'].str.extractall(pat ='Exit Date: (\\d{2}\\/\\d{2}\\/\\d{4})').unstack()"
   ]
  },
  {
   "cell_type": "code",
   "execution_count": null,
   "id": "a3387bc0",
   "metadata": {},
   "outputs": [],
   "source": [
    "Reopen=Exit_Reopen['Exit_Note'].str.extractall(pat ='Reopened: (\\d{2}\\/\\d{2}\\/\\d{4})').unstack()"
   ]
  },
  {
   "cell_type": "code",
   "execution_count": null,
   "id": "3e21fa54",
   "metadata": {},
   "outputs": [],
   "source": [
    "Exit.head()"
   ]
  },
  {
   "cell_type": "code",
   "execution_count": null,
   "id": "64e87439",
   "metadata": {},
   "outputs": [],
   "source": [
    "from functools import reduce\n",
    "\n",
    "Exit_Reopen_Unstack=reduce(lambda x,y: pd.merge(x,y, left_index=True, right_index=True, how='inner'), [Exit_Reopen, Exit, Reopen])"
   ]
  },
  {
   "cell_type": "code",
   "execution_count": null,
   "id": "7817a5a1",
   "metadata": {},
   "outputs": [],
   "source": [
    "Exit_Reopen_Unstack.head(1)"
   ]
  },
  {
   "cell_type": "code",
   "execution_count": null,
   "id": "ca83aa83",
   "metadata": {},
   "outputs": [],
   "source": [
    "Exit_Reopen_Unstack_subset=Exit_Reopen_Unstack.drop(columns=['POE','Exit_Rsn','Exit_Note'])"
   ]
  },
  {
   "cell_type": "code",
   "execution_count": null,
   "id": "05a92586",
   "metadata": {},
   "outputs": [],
   "source": [
    "Exit_Reopen_Unstack_subset.head(500)"
   ]
  },
  {
   "cell_type": "code",
   "execution_count": null,
   "id": "9bb230e2",
   "metadata": {},
   "outputs": [],
   "source": [
    "mapping={'(0, 0)_x':'ExDT1','(0, 1)_x':'ExDT2','(0, 2)_x':'ExDT3','(0, 3)_x':'ExDT4','(0, 4)_x':'ExDT5','(0, 5)_x':'ExDT6'}\n",
    "         \n",
    "Exit_Reopen_Unstack_subset = Exit_Reopen_Unstack_subset.rename(columns=mapping)"
   ]
  },
  {
   "cell_type": "code",
   "execution_count": null,
   "id": "e5b7cf36",
   "metadata": {},
   "outputs": [],
   "source": [
    "mapping={(0, 0):'ReDT1',(0, 1):'ReDT2',(0, 2):'ReDT3',(0, 3):'ReDT4',(0, 4):'ReDT5',(0, 5):'ReDT6'}\n",
    "Exit_Reopen_Unstack_subset = Exit_Reopen_Unstack_subset.rename(columns=mapping)"
   ]
  },
  {
   "cell_type": "code",
   "execution_count": null,
   "id": "432bdf5d",
   "metadata": {},
   "outputs": [],
   "source": [
    "Exit_Reopen_Unstack_subset.head()\n"
   ]
  },
  {
   "cell_type": "markdown",
   "id": "2e22cf8a",
   "metadata": {},
   "source": [
    "## For Analysis\n",
    "Exit_Reopen_Unstack_subset.to_csv(\"../data/Exit_Reopen_Unstack_subset.csv\", index = False)"
   ]
  },
  {
   "cell_type": "code",
   "execution_count": null,
   "id": "3c998231",
   "metadata": {
    "scrolled": true
   },
   "outputs": [],
   "source": [
    "i=0\n",
    "for index,row  in Exit_Reopen_Unstack_subset.iterrows():\n",
    "    #if (row['ID'] == 461388):\n",
    "        IFSP=row['Init_IFSP_Dt'] \n",
    "        EXITDT=row['Exit_Dt']\n",
    "        SD=row['Service_Days']\n",
    "        ASD=row['Actual_Service_Days']\n",
    "        #print(\"#\",SD)\n",
    "        #print(\"#\",ASD)\n",
    "        Exit= [row['ExDT6'],row['ExDT5'],row['ExDT4'],row['ExDT3'],row['ExDT2'],row['ExDT1']]\n",
    "        Reopen= [row['ReDT6'],row['ReDT5'],row['ReDT4'],row['ReDT3'],row['ReDT2'],row['ReDT1']]\n",
    "     \n",
    "        E=[]\n",
    "    \n",
    "        for item in Exit:\n",
    "            item=pd.to_datetime(item, format='%m/%d/%Y')\n",
    "            if (pd.notnull(item)) & (item >= IFSP ) :  # no early dates thanIFSP\n",
    "                if (len(E)==0) & (item < EXITDT) :\n",
    "                    E.append(item)\n",
    "                   # print(\"*\",SD)\n",
    "                   # print(\"*\",ASD)\n",
    "                elif (len(E) >= 1) & (item < EXITDT):  # No Duplicates between exit date in exit note and Final Exit date\n",
    "                    if item > E[-1]: # NO duplicate entries between exit dates in exit notes\n",
    "                        E.append(item)\n",
    "                       # print(\"***\",SD)\n",
    "                       # print(\"***\",ASD)\n",
    "                    else:\n",
    "                        E=[]\n",
    "                       # print(\"**\",SD)\n",
    "                       # print(\"**\",ASD)\n",
    "                        break\n",
    "                else :\n",
    "                    continue\n",
    "        \n",
    "        R=[]\n",
    "        for item in Reopen:\n",
    "            item=pd.to_datetime(item, format='%m/%d/%Y')\n",
    "            if (pd.notnull(item)) & (item >= IFSP ):\n",
    "                if len(R)==0:\n",
    "                    R.append(item)\n",
    "                elif (len(R) >= 1) & (item > R[-1]):\n",
    "                     R.append(item)\n",
    "                else:\n",
    "                    R=[]\n",
    "                    break\n",
    "       # print(len(R))\n",
    "        \n",
    "        if  len(E) == 0 & len(R) == 0 :\n",
    "            i=i+1\n",
    "            #print(\"*************\")\n",
    "            print(row['ID'],len(E),len(R))\n",
    "            Exit_Reopen_Unstack_subset.loc[index,'Actual_Service_Days']=(EXITDT-IFSP).days \n",
    "        elif len(E) == 1 & len(R) == 1 :\n",
    "             Exit_Reopen_Unstack_subset.loc[index,'Actual_Service_Days']=(E[0]-IFSP).days + (EXITDT-R[0]).days\n",
    "        elif len(E) == 2 & len(R) == 2 : \n",
    "             Exit_Reopen_Unstack_subset.loc[index,'Actual_Service_Days']=(E[0]-IFSP).days+(E[1]-R[0]).days+(EXITDT-R[1]).days\n",
    "        elif len(E) == 3 & len(R) == 3 : \n",
    "             Exit_Reopen_Unstack_subset.loc[index,'Actual_Service_Days']=(E[0]-IFSP).days+(E[1]-R[0]).days+(E[2]-R[1]).days+(EXITDT-R[2]).days\n",
    "        elif len(E) == 4 & len(R) == 4:\n",
    "            Exit_Reopen_Unstack_subset.loc[index,'Actual_Service_Days']=(E[0]-IFSP).days +(E[1]-R[0]).days+(E[2]-R[1]).days+(E[3]-R[2]).days+(EXITDT-R[3]).days\n",
    "        elif  len(E) == 5 & len(R) == 5:\n",
    "             Exit_Reopen_Unstack_subset.loc[index,'Actual_Service_Days']=(E[0]-IFSP).days+(E[1]-R[0]).days+(E[2]-R[1]).days+(E[3]-R[2]).days+(E[4]-R[3]).days+(EXITDT-R[4]).days\n",
    "        elif len(E) == 6 & len(R) == 6: \n",
    "            Exit_Reopen_Unstack_subset.loc[index,'Actual_Service_Days']=(E[0]-IFSP).days+(E[1]-R[0]).days+(E[2]-R[1]).days+(E[3]-R[2]).days+(E[4]-R[3]).days+(E[5]-R[4]).days+(EXITDT-R[5]).days\n",
    "        else:\n",
    "            #print(\"***********\")\n",
    "            #print(row['ID'],len(E),len(R))\n",
    "            Exit_Reopen_Unstack_subset.loc[index,'Actual_Service_Days']=(EXITDT-IFSP).days\n",
    "        print(i)"
   ]
  },
  {
   "cell_type": "code",
   "execution_count": null,
   "id": "fb892f95",
   "metadata": {},
   "outputs": [],
   "source": [
    "Exit_Reopen_Unstack_subset.loc[Exit_Reopen_Unstack_subset.ID==461388]"
   ]
  },
  {
   "cell_type": "markdown",
   "id": "f99fe771",
   "metadata": {},
   "source": [
    "Exit_Reopen_Unstack_subset.drop(columns=[0,192])"
   ]
  },
  {
   "cell_type": "markdown",
   "id": "05c9abe7",
   "metadata": {},
   "source": [
    "## NO of records updated for Actual Service days is 504"
   ]
  },
  {
   "cell_type": "code",
   "execution_count": null,
   "id": "7e9048f0",
   "metadata": {},
   "outputs": [],
   "source": [
    "Exit_Reopen_Unstack_subset.loc[Exit_Reopen_Unstack_subset.Actual_Service_Days!=Exit_Reopen_Unstack_subset.Service_Days]"
   ]
  },
  {
   "cell_type": "code",
   "execution_count": null,
   "id": "04ff1f77",
   "metadata": {},
   "outputs": [],
   "source": [
    "Exit_Reopen_Subset=Exit_Reopen_Unstack_subset[['ID', 'Actual_Service_Days']]"
   ]
  },
  {
   "cell_type": "code",
   "execution_count": null,
   "id": "648e5fc0",
   "metadata": {},
   "outputs": [],
   "source": [
    "df = Exit_Notes.merge(Exit_Reopen_Subset, how='left', on='ID')\n",
    "print(df)\n"
   ]
  },
  {
   "cell_type": "code",
   "execution_count": null,
   "id": "ded433f1",
   "metadata": {},
   "outputs": [],
   "source": [
    "df['Actual_Service_Days'] = df['Actual_Service_Days_y'].fillna(df['Actual_Service_Days_x'])\n"
   ]
  },
  {
   "cell_type": "code",
   "execution_count": null,
   "id": "21700f51",
   "metadata": {},
   "outputs": [],
   "source": [
    "print(df)"
   ]
  },
  {
   "cell_type": "code",
   "execution_count": null,
   "id": "18d5ed89",
   "metadata": {},
   "outputs": [],
   "source": [
    "df.loc[df.Actual_Service_Days!=0]"
   ]
  },
  {
   "cell_type": "code",
   "execution_count": null,
   "id": "0f8c0498",
   "metadata": {},
   "outputs": [],
   "source": [
    "df.loc[df.ID==477472]"
   ]
  },
  {
   "cell_type": "code",
   "execution_count": null,
   "id": "0ad2c2f8",
   "metadata": {},
   "outputs": [],
   "source": [
    "df['Actual_Service_Days'].unique()"
   ]
  },
  {
   "cell_type": "markdown",
   "id": "fadd6414",
   "metadata": {},
   "source": [
    "## convert float into int"
   ]
  },
  {
   "cell_type": "code",
   "execution_count": null,
   "id": "e7a5824c",
   "metadata": {},
   "outputs": [],
   "source": [
    "df['Actual_Service_Days'] = df['Actual_Service_Days'].astype(int)"
   ]
  },
  {
   "cell_type": "code",
   "execution_count": null,
   "id": "60a430a2",
   "metadata": {},
   "outputs": [],
   "source": [
    "df['Actual_Service_Days'].unique()"
   ]
  },
  {
   "cell_type": "code",
   "execution_count": null,
   "id": "c299d07b",
   "metadata": {},
   "outputs": [],
   "source": [
    "df=df.drop(['Actual_Service_Days_x', 'Actual_Service_Days_y'], axis=1)"
   ]
  },
  {
   "cell_type": "markdown",
   "id": "a84b24c6",
   "metadata": {},
   "source": [
    "## For Analysis"
   ]
  },
  {
   "cell_type": "code",
   "execution_count": null,
   "id": "1fdd5234",
   "metadata": {},
   "outputs": [],
   "source": [
    "df_analysis=df.loc[df.Actual_Service_Days==0]"
   ]
  },
  {
   "cell_type": "markdown",
   "id": "eaa2cfcb",
   "metadata": {},
   "source": [
    "df_analysis.to_csv(\"../data/df_analysis.csv\", index = False)"
   ]
  },
  {
   "cell_type": "code",
   "execution_count": null,
   "id": "f61a67be",
   "metadata": {},
   "outputs": [],
   "source": [
    "print(df_analysis)"
   ]
  },
  {
   "cell_type": "code",
   "execution_count": null,
   "id": "f6bc004a",
   "metadata": {},
   "outputs": [],
   "source": [
    "df_analysis['Actual_Service_Days'] = df_analysis.apply(lambda x: x['Service_Days'] if x['Actual_Service_Days'] == 0 else x['Actual_Service_Days'], axis=1)"
   ]
  },
  {
   "cell_type": "code",
   "execution_count": null,
   "id": "a98b4401",
   "metadata": {
    "scrolled": true
   },
   "outputs": [],
   "source": [
    "df.loc[df.Actual_Service_Days==0]"
   ]
  },
  {
   "cell_type": "markdown",
   "id": "6bf955d9",
   "metadata": {},
   "source": [
    "## Actual Service days= service days for children with  exit notes having none of exit or reopened dates"
   ]
  },
  {
   "cell_type": "code",
   "execution_count": null,
   "id": "5f153708",
   "metadata": {},
   "outputs": [],
   "source": [
    "df['Actual_Service_Days'] = df.apply(lambda x: x['Service_Days'] if x['Actual_Service_Days'] == 0 else x['Actual_Service_Days'], axis=1)"
   ]
  },
  {
   "cell_type": "code",
   "execution_count": null,
   "id": "1d382c13",
   "metadata": {},
   "outputs": [],
   "source": [
    "Exit_Notes.loc[Exit_Notes.Service_Days<182]"
   ]
  },
  {
   "cell_type": "code",
   "execution_count": null,
   "id": "7f40332f",
   "metadata": {
    "scrolled": true
   },
   "outputs": [],
   "source": [
    "df.loc[df.Actual_Service_Days<182]"
   ]
  },
  {
   "cell_type": "code",
   "execution_count": null,
   "id": "70cad24a",
   "metadata": {},
   "outputs": [],
   "source": [
    "Exit_Notes_Actual=Exit_Notes_Original.merge(df[['ID','Actual_Service_Days']],how='inner',left_on='Child ID',right_on='ID')"
   ]
  },
  {
   "cell_type": "code",
   "execution_count": null,
   "id": "c4b6ece1",
   "metadata": {},
   "outputs": [],
   "source": [
    " Exit_Notes_Actual=Exit_Notes_Actual.drop(columns='ID')\n"
   ]
  },
  {
   "cell_type": "code",
   "execution_count": null,
   "id": "d5a8a26c",
   "metadata": {},
   "outputs": [],
   "source": [
    "Exit_Notes_Actual.loc[Exit_Notes_Actual.Actual_Service_Days<182].shape"
   ]
  },
  {
   "cell_type": "markdown",
   "id": "12bb5f26",
   "metadata": {},
   "source": [
    "Exit_Notes_Actual.to_csv('../data/Exit_Notes_Actual.csv')"
   ]
  },
  {
   "cell_type": "code",
   "execution_count": null,
   "id": "560ad13a",
   "metadata": {},
   "outputs": [],
   "source": [
    "Exit_Notes_Original.loc[Exit_Notes_Original['Days from I-IFSP to Exit'] <182].shape"
   ]
  },
  {
   "cell_type": "code",
   "execution_count": null,
   "id": "40340566",
   "metadata": {},
   "outputs": [],
   "source": [
    "Exit_Notes_Actual.loc[Exit_Notes_Actual.Actual_Service_Days != Exit_Notes_Original['Days from I-IFSP to Exit'] ].shape"
   ]
  },
  {
   "cell_type": "code",
   "execution_count": null,
   "id": "822df59d",
   "metadata": {},
   "outputs": [],
   "source": [
    "ECO_with_Exit20_21_Actual=ECO_with_Exit20_21_Original.merge(Exit_Notes_Actual[['Child ID','Actual_Service_Days']],how='left',left_on='CHILD_ID',right_on='Child ID')\n",
    "#ECO_with_Exit20_21_Original.head()"
   ]
  },
  {
   "cell_type": "code",
   "execution_count": null,
   "id": "d12e2494",
   "metadata": {},
   "outputs": [],
   "source": [
    "ECO_with_Exit20_21_Actual.head()"
   ]
  },
  {
   "cell_type": "code",
   "execution_count": null,
   "id": "d4795d36",
   "metadata": {},
   "outputs": [],
   "source": [
    "ECO_with_Exit20_21_Actual=ECO_with_Exit20_21_Actual.drop(columns='Child ID')"
   ]
  },
  {
   "cell_type": "code",
   "execution_count": null,
   "id": "4cd59784",
   "metadata": {
    "scrolled": true
   },
   "outputs": [],
   "source": [
    "ECO_with_Exit20_21_Actual.tail(10)"
   ]
  },
  {
   "cell_type": "code",
   "execution_count": null,
   "id": "0291c905",
   "metadata": {},
   "outputs": [],
   "source": [
    "ECO_with_Exit20_21_Actual.drop(ECO_with_Exit20_21_Actual.tail(7).index,\n",
    "        inplace = True)"
   ]
  },
  {
   "cell_type": "code",
   "execution_count": null,
   "id": "03841465",
   "metadata": {},
   "outputs": [],
   "source": [
    "ECO_with_Exit20_21_Actual.tail(10)"
   ]
  },
  {
   "cell_type": "code",
   "execution_count": null,
   "id": "f7ea76d1",
   "metadata": {},
   "outputs": [],
   "source": [
    "ECO_with_Exit20_21_Actual['Days btw Initial and Exit'] = ECO_with_Exit20_21_Actual['Days btw Initial and Exit'].astype(int)\n",
    "ECO_with_Exit20_21_Actual['Actual_Service_Days']=ECO_with_Exit20_21_Actual['Actual_Service_Days'].fillna(ECO_with_Exit20_21_Actual['Days btw Initial and Exit'])\n",
    "ECO_with_Exit20_21_Actual['Actual_Service_Days'] = ECO_with_Exit20_21_Actual['Actual_Service_Days'].astype(int)"
   ]
  },
  {
   "cell_type": "markdown",
   "id": "cd9ca85c",
   "metadata": {},
   "source": [
    "ECO_with_Exit20_21.to_csv('../data/Eco_Analysis.csv',index=False)"
   ]
  },
  {
   "cell_type": "code",
   "execution_count": null,
   "id": "ad1c86e9",
   "metadata": {},
   "outputs": [],
   "source": [
    "ECO_with_Exit20_21_Actual.loc[ECO_with_Exit20_21_Actual['Actual_Service_Days'] < 182 ].shape"
   ]
  },
  {
   "cell_type": "code",
   "execution_count": null,
   "id": "ea89cdb6",
   "metadata": {},
   "outputs": [],
   "source": [
    "ECO_with_Exit20_21_Actual.loc[ECO_with_Exit20_21_Actual['Actual_Service_Days'] >= 182 ].shape"
   ]
  },
  {
   "cell_type": "markdown",
   "id": "24072be2",
   "metadata": {},
   "source": [
    "ECO_with_Exit20_21_Actual.to_csv('../data/ECO_with_Exit20_21_Actual_Analysis.csv',index=False)"
   ]
  },
  {
   "cell_type": "code",
   "execution_count": null,
   "id": "ca52c3a3",
   "metadata": {},
   "outputs": [],
   "source": []
  }
 ],
 "metadata": {
  "kernelspec": {
   "display_name": "Python 3 (ipykernel)",
   "language": "python",
   "name": "python3"
  },
  "language_info": {
   "codemirror_mode": {
    "name": "ipython",
    "version": 3
   },
   "file_extension": ".py",
   "mimetype": "text/x-python",
   "name": "python",
   "nbconvert_exporter": "python",
   "pygments_lexer": "ipython3",
   "version": "3.9.7"
  }
 },
 "nbformat": 4,
 "nbformat_minor": 5
}
